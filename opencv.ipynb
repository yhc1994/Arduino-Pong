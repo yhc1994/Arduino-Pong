import pandas as pd
import numpy as np
import cv2 #use openCV
from matplotlib import pyplot as plt #use matplot to show image

# Load an color image in grayscale
img = cv2.imread('1.jpg',0)
print(img)
dimensions = img.shape

print(img.shape)

for i in range (dimensions[0]): #traverses through height of the image. TOO SLOW, cannot use this one
    for j in range (dimensions[1]): #traverses through width of the image
        print(img[i][j])
        
#convert numpy.ndarray to pandas dataframe
imgDF = pd.DataFrame.from_records(img)

imgDF.head(10)

imgDF.to_csv('imgDF.csv',index = False)

#make image 300 pixels wide
r = 800.0 / img.shape[1]
dim = (800, int(img.shape[0] * r))
# perform the actual resizing of the image and show it
resizedImg = cv2.resize(img, dim, interpolation = cv2.INTER_AREA)
cv2.imshow("resized", resizedImg)
k = cv2.waitKey(0)&0xFF
if k == 27:         # wait for ESC key to exit
    cv2.destroyAllWindows()
elif k == ord('s'): # wait for 's' key to save and exit
    cv2.imwrite('messigray.png',resizedImg)
    cv2.destroyAllWindows()
    
plt.imshow(resizedImg, cmap = 'gray', interpolation = 'bicubic')
#plt.xticks([]), plt.yticks([])  # to hide tick values on X and Y axis
plt.show()
